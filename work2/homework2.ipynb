{
 "cells": [
  {
   "cell_type": "code",
   "execution_count": 69,
   "metadata": {
    "collapsed": true
   },
   "outputs": [],
   "source": [
    "d1 = sc.parallelize([('a',1), ('b',3), ('c', 20), ('d', 6), ('e', 9)])"
   ]
  },
  {
   "cell_type": "code",
   "execution_count": 74,
   "metadata": {
    "collapsed": true
   },
   "outputs": [],
   "source": [
    "def genSeqOp(num):\n",
    "    def op(dstList, data):\n",
    "        if len(data) == 2:\n",
    "            dstList.append(tuple(data))\n",
    "        if len(dstList) > 2*num:\n",
    "            dstList.sort(key = lambda item: item[1], reverse=True)\n",
    "            dstList = dstList[:num]\n",
    "        return dstList\n",
    "    return op\n",
    "\n",
    "def genCombOp(num):\n",
    "    def op(dstList, data):\n",
    "        print(\"dstList:{0}, data:{1}\".format(dstList, data))\n",
    "        dstList.extend(data)\n",
    "        if len(dstList) > 2*num:\n",
    "            dstList.sort(key = lambda item: item[1], reverse=True)\n",
    "            dstList = dstList[:num]\n",
    "        return dstList\n",
    "    return op"
   ]
  },
  {
   "cell_type": "code",
   "execution_count": 75,
   "metadata": {
    "collapsed": false
   },
   "outputs": [
    {
     "name": "stdout",
     "output_type": "stream",
     "text": [
      "dstList:[], data:[]\n",
      "dstList:[], data:[('a', 1)]\n",
      "dstList:[('a', 1)], data:[]\n",
      "dstList:[('a', 1)], data:[('b', 3)]\n",
      "dstList:[('a', 1), ('b', 3)], data:[('c', 20)]\n",
      "dstList:[('a', 1), ('b', 3), ('c', 20)], data:[]\n",
      "dstList:[('a', 1), ('b', 3), ('c', 20)], data:[('d', 6)]\n",
      "dstList:[('a', 1), ('b', 3), ('c', 20), ('d', 6)], data:[('e', 9)]\n",
      "[('c', 20), ('e', 9)]\n"
     ]
    }
   ],
   "source": [
    " \n",
    "d2 = d1.aggregate([], genSeqOp(2), genCombOp(2))\n",
    "print(d2)"
   ]
  },
  {
   "cell_type": "code",
   "execution_count": null,
   "metadata": {
    "collapsed": true
   },
   "outputs": [],
   "source": []
  }
 ],
 "metadata": {
  "kernelspec": {
   "display_name": "Python [conda root]",
   "language": "python",
   "name": "conda-root-py"
  },
  "language_info": {
   "codemirror_mode": {
    "name": "ipython",
    "version": 3
   },
   "file_extension": ".py",
   "mimetype": "text/x-python",
   "name": "python",
   "nbconvert_exporter": "python",
   "pygments_lexer": "ipython3",
   "version": "3.5.2"
  }
 },
 "nbformat": 4,
 "nbformat_minor": 1
}
