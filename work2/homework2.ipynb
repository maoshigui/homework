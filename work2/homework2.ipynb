{
 "cells": [
  {
   "cell_type": "markdown",
   "metadata": {},
   "source": [
    "<big> 1. 假设有大量的(key,Value)键值对格式数据，希望找出按Value的排序的TOP N的数据，N为可变参数，程序应该把N作为一个变量处理。\n",
    "\n",
    " 假设数据量很大，不能完全放在内存中排序，所以不能直接collect进行排序，也不能使用rdd的top()函数。<big>"
   ]
  },
  {
   "cell_type": "code",
   "execution_count": 52,
   "metadata": {
    "collapsed": true
   },
   "outputs": [],
   "source": [
    "d1 = sc.parallelize([('a',1), ('b',3), ('c', 20), ('d', 6), ('e', 9), ('f', 12), ('g', 5)], 4)"
   ]
  },
  {
   "cell_type": "code",
   "execution_count": 57,
   "metadata": {
    "collapsed": false
   },
   "outputs": [],
   "source": [
    "def genSeqOp(num):\n",
    "    def op(dstList, data):\n",
    "        if len(data) == 2: #把合法的数据放到结果中\n",
    "            dstList.append(tuple(data))\n",
    "        # 排个序，输出top N\n",
    "        return sorted(dstList, key = lambda item: item[1], reverse=True)[:num]\n",
    "    return op\n",
    "\n",
    "def genCombOp(num):\n",
    "    def op(dstList, data):\n",
    "        print(\"dstList:{0}, data:{1}\".format(dstList, data))\n",
    "        dstList.extend(data) # 这里的data是每个分区的结果，也就是一个列表，所以用extend\n",
    "        return sorted(dstList, key = lambda item: item[1], reverse=True)[:num]\n",
    "    return op"
   ]
  },
  {
   "cell_type": "code",
   "execution_count": 58,
   "metadata": {
    "collapsed": false
   },
   "outputs": [
    {
     "name": "stdout",
     "output_type": "stream",
     "text": [
      "dstList:[], data:[('a', 1)]\n",
      "dstList:[('a', 1)], data:[('c', 20), ('b', 3)]\n",
      "dstList:[('c', 20), ('b', 3)], data:[('e', 9), ('d', 6)]\n",
      "dstList:[('c', 20), ('e', 9)], data:[('f', 12), ('g', 5)]\n",
      "[('c', 20), ('f', 12)]\n"
     ]
    }
   ],
   "source": [
    " \n",
    "d2 = d1.aggregate([], genSeqOp(2), genCombOp(2))\n",
    "print(d2)"
   ]
  },
  {
   "cell_type": "markdown",
   "metadata": {},
   "source": [
    "<big>2.假设有大量的(Key,time,Value)格式数据，求出每个key的移动平均数。比如说我们有性能数据，key为objId+counterId，time为上报时间，value为性能值，\n",
    "\n",
    "求出每个对象每个计数器的周移动平均数，不足一周的数据按前面所有的数据取平均。<big>"
   ]
  },
  {
   "cell_type": "code",
   "execution_count": 34,
   "metadata": {
    "collapsed": false
   },
   "outputs": [
    {
     "name": "stdout",
     "output_type": "stream",
     "text": [
      "[('33_3', [('2016-08-05 02:00:00', 3475.0), ('2016-08-05 02:15:00', 3470.0), ('2016-08-05 02:30:00', 3482.6666666666665)]), ('33_0', [('2016-08-05 02:00:00', 2901.0), ('2016-08-05 02:15:00', 2943.0), ('2016-08-05 02:30:00', 2916.3333333333335)]), ('33_2', [('2016-08-05 02:00:00', 2901.0), ('2016-08-05 02:15:00', 2953.0), ('2016-08-05 02:30:00', 2923.0)]), ('33_1', [('2016-08-05 02:00:00', 3475.0), ('2016-08-05 02:15:00', 3468.0), ('2016-08-05 02:30:00', 3481.3333333333335)]), ('33_4', [('2016-08-05 02:00:00', 2901.0), ('2016-08-05 02:15:00', 2932.5), ('2016-08-05 02:30:00', 2909.3333333333335)]), ('33_5', [('2016-08-05 02:00:00', 3475.0), ('2016-08-05 02:15:00', 3466.0), ('2016-08-05 02:30:00', 3480.0)])]\n"
     ]
    }
   ],
   "source": [
    "# 把每行数据按照 objid_conterId 为key的格式，拆成一个元素为tuple的list\n",
    "def genCounter(row):\n",
    "    objid = row[4]\n",
    "    time = row[1]\n",
    "    counters = row[7:13]\n",
    "    rst = [(\"{0}_{1}\".format(objid, i), (time, int(v))) for i, v in enumerate(counters) ]\n",
    "    return rst\n",
    "\n",
    "# 对每个 objid_conterId 下的计数器求移动平均\n",
    "def movingAvg(datas):\n",
    "    dataForWeek = []\n",
    "    rst = []\n",
    "    for data in datas:\n",
    "        dataForWeek.append(data[1])\n",
    "        if len(dataForWeek) > 7:\n",
    "            dataForWeek = dataForWeek[1:]\n",
    "        rst.append((data[0], sum(dataForWeek)/len(dataForWeek)))\n",
    "    return rst\n",
    "    \n",
    "lines = spark.read.option(\"header\", \"true\") \\\n",
    "             .csv(\"type7-1.csv\").rdd \\\n",
    "             .flatMap(genCounter) \\\n",
    "             .groupByKey() \\\n",
    "             .mapValues(sorted) \\\n",
    "             .mapValues(movingAvg) \\\n",
    "             .collect()\n",
    "print(lines)"
   ]
  },
  {
   "cell_type": "code",
   "execution_count": null,
   "metadata": {
    "collapsed": true
   },
   "outputs": [],
   "source": []
  },
  {
   "cell_type": "code",
   "execution_count": null,
   "metadata": {
    "collapsed": true
   },
   "outputs": [],
   "source": []
  }
 ],
 "metadata": {
  "anaconda-cloud": {},
  "kernelspec": {
   "display_name": "Python [conda root]",
   "language": "python",
   "name": "conda-root-py"
  },
  "language_info": {
   "codemirror_mode": {
    "name": "ipython",
    "version": 3
   },
   "file_extension": ".py",
   "mimetype": "text/x-python",
   "name": "python",
   "nbconvert_exporter": "python",
   "pygments_lexer": "ipython3",
   "version": "3.5.2"
  }
 },
 "nbformat": 4,
 "nbformat_minor": 1
}
