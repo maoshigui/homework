{
 "cells": [
  {
   "cell_type": "code",
   "execution_count": 1,
   "metadata": {
    "collapsed": false
   },
   "outputs": [],
   "source": [
    "import os\n",
    "import sys\n",
    "import re\n",
    "\n",
    "SPARK_HOME = os.environ['SPARK_HOME']\n",
    "sys.path.insert(0, os.path.join(SPARK_HOME, \"python\", \"build\"))\n",
    "sys.path.insert(0, os.path.join(SPARK_HOME, \"python\"))"
   ]
  },
  {
   "cell_type": "code",
   "execution_count": 2,
   "metadata": {
    "collapsed": false
   },
   "outputs": [
    {
     "data": {
      "text/plain": [
       "116710"
      ]
     },
     "execution_count": 2,
     "metadata": {},
     "output_type": "execute_result"
    }
   ],
   "source": [
    "from pyspark import  SparkContext\n",
    "\n",
    "sc = SparkContext( 'local', 'pyspark')\n",
    "textFile = sc.textFile(\"aaa\") #测试文本\n",
    "textFile.count()"
   ]
  },
  {
   "cell_type": "markdown",
   "metadata": {},
   "source": [
    "# 用map和reduce实现collect"
   ]
  },
  {
   "cell_type": "code",
   "execution_count": 3,
   "metadata": {
    "collapsed": false
   },
   "outputs": [
    {
     "data": {
      "text/plain": [
       "['Social Norms About Desires for Marriage and Children and Anticipated Chore Participation,”',\n",
       " '2. Scott S. Hall and Shelley M. MacDermid, “A Typology of Dual Earner Marriages Based on',\n",
       " 'That Inhibit Greater Father Involvement in Family Work,” Journal of Marriage and Family 61, no. 1',\n",
       " 'Social Embeddedness of Routine Family Work,” Journal of Marriage and Family 62, no. 4 (2000):',\n",
       " '“Control Over Money in Marriage,” in Marriage and the Economy: Theory and Evidence from',\n",
       " 'Neil Chethik, Voice Male: What Husbands Really Think About Their Marriages, Their Wives, Sex,',\n",
       " '10. Sreedhari D. Desai, Dolly Chugh, and Arthur Brief, “Marriage Structure and Resistance to the',\n",
       " 'Social Norms About Desires for Marriage and Children and Anticipated Chore Participation,”',\n",
       " '2. Scott S. Hall and Shelley M. MacDermid, “A Typology of Dual Earner Marriages Based on',\n",
       " 'That Inhibit Greater Father Involvement in Family Work,” Journal of Marriage and Family 61, no. 1',\n",
       " 'Social Embeddedness of Routine Family Work,” Journal of Marriage and Family 62, no. 4 (2000):',\n",
       " '“Control Over Money in Marriage,” in Marriage and the Economy: Theory and Evidence from',\n",
       " 'Neil Chethik, Voice Male: What Husbands Really Think About Their Marriages, Their Wives, Sex,',\n",
       " '10. Sreedhari D. Desai, Dolly Chugh, and Arthur Brief, “Marriage Structure and Resistance to the',\n",
       " 'Social Norms About Desires for Marriage and Children and Anticipated Chore Participation,”',\n",
       " '2. Scott S. Hall and Shelley M. MacDermid, “A Typology of Dual Earner Marriages Based on',\n",
       " 'That Inhibit Greater Father Involvement in Family Work,” Journal of Marriage and Family 61, no. 1',\n",
       " 'Social Embeddedness of Routine Family Work,” Journal of Marriage and Family 62, no. 4 (2000):',\n",
       " '“Control Over Money in Marriage,” in Marriage and the Economy: Theory and Evidence from',\n",
       " 'Neil Chethik, Voice Male: What Husbands Really Think About Their Marriages, Their Wives, Sex,',\n",
       " '10. Sreedhari D. Desai, Dolly Chugh, and Arthur Brief, “Marriage Structure and Resistance to the',\n",
       " 'Social Norms About Desires for Marriage and Children and Anticipated Chore Participation,”',\n",
       " '2. Scott S. Hall and Shelley M. MacDermid, “A Typology of Dual Earner Marriages Based on',\n",
       " 'That Inhibit Greater Father Involvement in Family Work,” Journal of Marriage and Family 61, no. 1',\n",
       " 'Social Embeddedness of Routine Family Work,” Journal of Marriage and Family 62, no. 4 (2000):',\n",
       " '“Control Over Money in Marriage,” in Marriage and the Economy: Theory and Evidence from',\n",
       " 'Neil Chethik, Voice Male: What Husbands Really Think About Their Marriages, Their Wives, Sex,',\n",
       " '10. Sreedhari D. Desai, Dolly Chugh, and Arthur Brief, “Marriage Structure and Resistance to the',\n",
       " 'Social Norms About Desires for Marriage and Children and Anticipated Chore Participation,”',\n",
       " '2. Scott S. Hall and Shelley M. MacDermid, “A Typology of Dual Earner Marriages Based on',\n",
       " 'That Inhibit Greater Father Involvement in Family Work,” Journal of Marriage and Family 61, no. 1',\n",
       " 'Social Embeddedness of Routine Family Work,” Journal of Marriage and Family 62, no. 4 (2000):',\n",
       " '“Control Over Money in Marriage,” in Marriage and the Economy: Theory and Evidence from',\n",
       " 'Neil Chethik, Voice Male: What Husbands Really Think About Their Marriages, Their Wives, Sex,',\n",
       " '10. Sreedhari D. Desai, Dolly Chugh, and Arthur Brief, “Marriage Structure and Resistance to the',\n",
       " 'Social Norms About Desires for Marriage and Children and Anticipated Chore Participation,”',\n",
       " '2. Scott S. Hall and Shelley M. MacDermid, “A Typology of Dual Earner Marriages Based on',\n",
       " 'That Inhibit Greater Father Involvement in Family Work,” Journal of Marriage and Family 61, no. 1',\n",
       " 'Social Embeddedness of Routine Family Work,” Journal of Marriage and Family 62, no. 4 (2000):',\n",
       " '“Control Over Money in Marriage,” in Marriage and the Economy: Theory and Evidence from',\n",
       " 'Neil Chethik, Voice Male: What Husbands Really Think About Their Marriages, Their Wives, Sex,',\n",
       " '10. Sreedhari D. Desai, Dolly Chugh, and Arthur Brief, “Marriage Structure and Resistance to the',\n",
       " 'Social Norms About Desires for Marriage and Children and Anticipated Chore Participation,”',\n",
       " '2. Scott S. Hall and Shelley M. MacDermid, “A Typology of Dual Earner Marriages Based on',\n",
       " 'That Inhibit Greater Father Involvement in Family Work,” Journal of Marriage and Family 61, no. 1',\n",
       " 'Social Embeddedness of Routine Family Work,” Journal of Marriage and Family 62, no. 4 (2000):',\n",
       " '“Control Over Money in Marriage,” in Marriage and the Economy: Theory and Evidence from',\n",
       " 'Neil Chethik, Voice Male: What Husbands Really Think About Their Marriages, Their Wives, Sex,',\n",
       " '10. Sreedhari D. Desai, Dolly Chugh, and Arthur Brief, “Marriage Structure and Resistance to the',\n",
       " 'Social Norms About Desires for Marriage and Children and Anticipated Chore Participation,”',\n",
       " '2. Scott S. Hall and Shelley M. MacDermid, “A Typology of Dual Earner Marriages Based on',\n",
       " 'That Inhibit Greater Father Involvement in Family Work,” Journal of Marriage and Family 61, no. 1',\n",
       " 'Social Embeddedness of Routine Family Work,” Journal of Marriage and Family 62, no. 4 (2000):',\n",
       " '“Control Over Money in Marriage,” in Marriage and the Economy: Theory and Evidence from',\n",
       " 'Neil Chethik, Voice Male: What Husbands Really Think About Their Marriages, Their Wives, Sex,',\n",
       " '10. Sreedhari D. Desai, Dolly Chugh, and Arthur Brief, “Marriage Structure and Resistance to the',\n",
       " 'Social Norms About Desires for Marriage and Children and Anticipated Chore Participation,”',\n",
       " '2. Scott S. Hall and Shelley M. MacDermid, “A Typology of Dual Earner Marriages Based on',\n",
       " 'That Inhibit Greater Father Involvement in Family Work,” Journal of Marriage and Family 61, no. 1',\n",
       " 'Social Embeddedness of Routine Family Work,” Journal of Marriage and Family 62, no. 4 (2000):',\n",
       " '“Control Over Money in Marriage,” in Marriage and the Economy: Theory and Evidence from',\n",
       " 'Neil Chethik, Voice Male: What Husbands Really Think About Their Marriages, Their Wives, Sex,',\n",
       " '10. Sreedhari D. Desai, Dolly Chugh, and Arthur Brief, “Marriage Structure and Resistance to the',\n",
       " 'Social Norms About Desires for Marriage and Children and Anticipated Chore Participation,”',\n",
       " '2. Scott S. Hall and Shelley M. MacDermid, “A Typology of Dual Earner Marriages Based on',\n",
       " 'That Inhibit Greater Father Involvement in Family Work,” Journal of Marriage and Family 61, no. 1',\n",
       " 'Social Embeddedness of Routine Family Work,” Journal of Marriage and Family 62, no. 4 (2000):',\n",
       " '“Control Over Money in Marriage,” in Marriage and the Economy: Theory and Evidence from',\n",
       " 'Neil Chethik, Voice Male: What Husbands Really Think About Their Marriages, Their Wives, Sex,',\n",
       " '10. Sreedhari D. Desai, Dolly Chugh, and Arthur Brief, “Marriage Structure and Resistance to the',\n",
       " 'Social Norms About Desires for Marriage and Children and Anticipated Chore Participation,”',\n",
       " '2. Scott S. Hall and Shelley M. MacDermid, “A Typology of Dual Earner Marriages Based on',\n",
       " 'That Inhibit Greater Father Involvement in Family Work,” Journal of Marriage and Family 61, no. 1',\n",
       " 'Social Embeddedness of Routine Family Work,” Journal of Marriage and Family 62, no. 4 (2000):',\n",
       " '“Control Over Money in Marriage,” in Marriage and the Economy: Theory and Evidence from',\n",
       " 'Neil Chethik, Voice Male: What Husbands Really Think About Their Marriages, Their Wives, Sex,',\n",
       " '10. Sreedhari D. Desai, Dolly Chugh, and Arthur Brief, “Marriage Structure and Resistance to the',\n",
       " 'Social Norms About Desires for Marriage and Children and Anticipated Chore Participation,”',\n",
       " '2. Scott S. Hall and Shelley M. MacDermid, “A Typology of Dual Earner Marriages Based on',\n",
       " 'That Inhibit Greater Father Involvement in Family Work,” Journal of Marriage and Family 61, no. 1',\n",
       " 'Social Embeddedness of Routine Family Work,” Journal of Marriage and Family 62, no. 4 (2000):',\n",
       " '“Control Over Money in Marriage,” in Marriage and the Economy: Theory and Evidence from',\n",
       " 'Neil Chethik, Voice Male: What Husbands Really Think About Their Marriages, Their Wives, Sex,',\n",
       " '10. Sreedhari D. Desai, Dolly Chugh, and Arthur Brief, “Marriage Structure and Resistance to the',\n",
       " 'Social Norms About Desires for Marriage and Children and Anticipated Chore Participation,”',\n",
       " '2. Scott S. Hall and Shelley M. MacDermid, “A Typology of Dual Earner Marriages Based on',\n",
       " 'That Inhibit Greater Father Involvement in Family Work,” Journal of Marriage and Family 61, no. 1',\n",
       " 'Social Embeddedness of Routine Family Work,” Journal of Marriage and Family 62, no. 4 (2000):',\n",
       " '“Control Over Money in Marriage,” in Marriage and the Economy: Theory and Evidence from',\n",
       " 'Neil Chethik, Voice Male: What Husbands Really Think About Their Marriages, Their Wives, Sex,',\n",
       " '10. Sreedhari D. Desai, Dolly Chugh, and Arthur Brief, “Marriage Structure and Resistance to the',\n",
       " 'Social Norms About Desires for Marriage and Children and Anticipated Chore Participation,”',\n",
       " '2. Scott S. Hall and Shelley M. MacDermid, “A Typology of Dual Earner Marriages Based on',\n",
       " 'That Inhibit Greater Father Involvement in Family Work,” Journal of Marriage and Family 61, no. 1',\n",
       " 'Social Embeddedness of Routine Family Work,” Journal of Marriage and Family 62, no. 4 (2000):',\n",
       " '“Control Over Money in Marriage,” in Marriage and the Economy: Theory and Evidence from',\n",
       " 'Neil Chethik, Voice Male: What Husbands Really Think About Their Marriages, Their Wives, Sex,',\n",
       " '10. Sreedhari D. Desai, Dolly Chugh, and Arthur Brief, “Marriage Structure and Resistance to the',\n",
       " 'Social Norms About Desires for Marriage and Children and Anticipated Chore Participation,”',\n",
       " '2. Scott S. Hall and Shelley M. MacDermid, “A Typology of Dual Earner Marriages Based on',\n",
       " 'That Inhibit Greater Father Involvement in Family Work,” Journal of Marriage and Family 61, no. 1',\n",
       " 'Social Embeddedness of Routine Family Work,” Journal of Marriage and Family 62, no. 4 (2000):',\n",
       " '“Control Over Money in Marriage,” in Marriage and the Economy: Theory and Evidence from',\n",
       " 'Neil Chethik, Voice Male: What Husbands Really Think About Their Marriages, Their Wives, Sex,',\n",
       " '10. Sreedhari D. Desai, Dolly Chugh, and Arthur Brief, “Marriage Structure and Resistance to the',\n",
       " 'Social Norms About Desires for Marriage and Children and Anticipated Chore Participation,”',\n",
       " '2. Scott S. Hall and Shelley M. MacDermid, “A Typology of Dual Earner Marriages Based on',\n",
       " 'That Inhibit Greater Father Involvement in Family Work,” Journal of Marriage and Family 61, no. 1',\n",
       " 'Social Embeddedness of Routine Family Work,” Journal of Marriage and Family 62, no. 4 (2000):',\n",
       " '“Control Over Money in Marriage,” in Marriage and the Economy: Theory and Evidence from',\n",
       " 'Neil Chethik, Voice Male: What Husbands Really Think About Their Marriages, Their Wives, Sex,',\n",
       " '10. Sreedhari D. Desai, Dolly Chugh, and Arthur Brief, “Marriage Structure and Resistance to the',\n",
       " 'Social Norms About Desires for Marriage and Children and Anticipated Chore Participation,”',\n",
       " '2. Scott S. Hall and Shelley M. MacDermid, “A Typology of Dual Earner Marriages Based on',\n",
       " 'That Inhibit Greater Father Involvement in Family Work,” Journal of Marriage and Family 61, no. 1',\n",
       " 'Social Embeddedness of Routine Family Work,” Journal of Marriage and Family 62, no. 4 (2000):',\n",
       " '“Control Over Money in Marriage,” in Marriage and the Economy: Theory and Evidence from',\n",
       " 'Neil Chethik, Voice Male: What Husbands Really Think About Their Marriages, Their Wives, Sex,',\n",
       " '10. Sreedhari D. Desai, Dolly Chugh, and Arthur Brief, “Marriage Structure and Resistance to the',\n",
       " 'Social Norms About Desires for Marriage and Children and Anticipated Chore Participation,”',\n",
       " '2. Scott S. Hall and Shelley M. MacDermid, “A Typology of Dual Earner Marriages Based on',\n",
       " 'That Inhibit Greater Father Involvement in Family Work,” Journal of Marriage and Family 61, no. 1',\n",
       " 'Social Embeddedness of Routine Family Work,” Journal of Marriage and Family 62, no. 4 (2000):',\n",
       " '“Control Over Money in Marriage,” in Marriage and the Economy: Theory and Evidence from',\n",
       " 'Neil Chethik, Voice Male: What Husbands Really Think About Their Marriages, Their Wives, Sex,',\n",
       " '10. Sreedhari D. Desai, Dolly Chugh, and Arthur Brief, “Marriage Structure and Resistance to the',\n",
       " 'Social Norms About Desires for Marriage and Children and Anticipated Chore Participation,”',\n",
       " '2. Scott S. Hall and Shelley M. MacDermid, “A Typology of Dual Earner Marriages Based on',\n",
       " 'That Inhibit Greater Father Involvement in Family Work,” Journal of Marriage and Family 61, no. 1',\n",
       " 'Social Embeddedness of Routine Family Work,” Journal of Marriage and Family 62, no. 4 (2000):',\n",
       " '“Control Over Money in Marriage,” in Marriage and the Economy: Theory and Evidence from',\n",
       " 'Neil Chethik, Voice Male: What Husbands Really Think About Their Marriages, Their Wives, Sex,',\n",
       " '10. Sreedhari D. Desai, Dolly Chugh, and Arthur Brief, “Marriage Structure and Resistance to the',\n",
       " 'Social Norms About Desires for Marriage and Children and Anticipated Chore Participation,”',\n",
       " '2. Scott S. Hall and Shelley M. MacDermid, “A Typology of Dual Earner Marriages Based on',\n",
       " 'That Inhibit Greater Father Involvement in Family Work,” Journal of Marriage and Family 61, no. 1',\n",
       " 'Social Embeddedness of Routine Family Work,” Journal of Marriage and Family 62, no. 4 (2000):',\n",
       " '“Control Over Money in Marriage,” in Marriage and the Economy: Theory and Evidence from',\n",
       " 'Neil Chethik, Voice Male: What Husbands Really Think About Their Marriages, Their Wives, Sex,',\n",
       " '10. Sreedhari D. Desai, Dolly Chugh, and Arthur Brief, “Marriage Structure and Resistance to the',\n",
       " 'Social Norms About Desires for Marriage and Children and Anticipated Chore Participation,”',\n",
       " '2. Scott S. Hall and Shelley M. MacDermid, “A Typology of Dual Earner Marriages Based on',\n",
       " 'That Inhibit Greater Father Involvement in Family Work,” Journal of Marriage and Family 61, no. 1',\n",
       " 'Social Embeddedness of Routine Family Work,” Journal of Marriage and Family 62, no. 4 (2000):',\n",
       " '“Control Over Money in Marriage,” in Marriage and the Economy: Theory and Evidence from',\n",
       " 'Neil Chethik, Voice Male: What Husbands Really Think About Their Marriages, Their Wives, Sex,',\n",
       " '10. Sreedhari D. Desai, Dolly Chugh, and Arthur Brief, “Marriage Structure and Resistance to the',\n",
       " 'Social Norms About Desires for Marriage and Children and Anticipated Chore Participation,”',\n",
       " '2. Scott S. Hall and Shelley M. MacDermid, “A Typology of Dual Earner Marriages Based on',\n",
       " 'That Inhibit Greater Father Involvement in Family Work,” Journal of Marriage and Family 61, no. 1',\n",
       " 'Social Embeddedness of Routine Family Work,” Journal of Marriage and Family 62, no. 4 (2000):',\n",
       " '“Control Over Money in Marriage,” in Marriage and the Economy: Theory and Evidence from',\n",
       " 'Neil Chethik, Voice Male: What Husbands Really Think About Their Marriages, Their Wives, Sex,',\n",
       " '10. Sreedhari D. Desai, Dolly Chugh, and Arthur Brief, “Marriage Structure and Resistance to the']"
      ]
     },
     "execution_count": 3,
     "metadata": {},
     "output_type": "execute_result"
    }
   ],
   "source": [
    "linesWithResearch = textFile.filter(lambda line: \"Marriage\" in line)\n",
    "linesWithResearch.collect()"
   ]
  },
  {
   "cell_type": "code",
   "execution_count": 4,
   "metadata": {
    "collapsed": false,
    "scrolled": true
   },
   "outputs": [
    {
     "data": {
      "text/plain": [
       "['Social Norms About Desires for Marriage and Children and Anticipated Chore Participation,”',\n",
       " '2. Scott S. Hall and Shelley M. MacDermid, “A Typology of Dual Earner Marriages Based on',\n",
       " 'That Inhibit Greater Father Involvement in Family Work,” Journal of Marriage and Family 61, no. 1',\n",
       " 'Social Embeddedness of Routine Family Work,” Journal of Marriage and Family 62, no. 4 (2000):',\n",
       " '“Control Over Money in Marriage,” in Marriage and the Economy: Theory and Evidence from',\n",
       " 'Neil Chethik, Voice Male: What Husbands Really Think About Their Marriages, Their Wives, Sex,',\n",
       " '10. Sreedhari D. Desai, Dolly Chugh, and Arthur Brief, “Marriage Structure and Resistance to the',\n",
       " 'Social Norms About Desires for Marriage and Children and Anticipated Chore Participation,”',\n",
       " '2. Scott S. Hall and Shelley M. MacDermid, “A Typology of Dual Earner Marriages Based on',\n",
       " 'That Inhibit Greater Father Involvement in Family Work,” Journal of Marriage and Family 61, no. 1',\n",
       " 'Social Embeddedness of Routine Family Work,” Journal of Marriage and Family 62, no. 4 (2000):',\n",
       " '“Control Over Money in Marriage,” in Marriage and the Economy: Theory and Evidence from',\n",
       " 'Neil Chethik, Voice Male: What Husbands Really Think About Their Marriages, Their Wives, Sex,',\n",
       " '10. Sreedhari D. Desai, Dolly Chugh, and Arthur Brief, “Marriage Structure and Resistance to the',\n",
       " 'Social Norms About Desires for Marriage and Children and Anticipated Chore Participation,”',\n",
       " '2. Scott S. Hall and Shelley M. MacDermid, “A Typology of Dual Earner Marriages Based on',\n",
       " 'That Inhibit Greater Father Involvement in Family Work,” Journal of Marriage and Family 61, no. 1',\n",
       " 'Social Embeddedness of Routine Family Work,” Journal of Marriage and Family 62, no. 4 (2000):',\n",
       " '“Control Over Money in Marriage,” in Marriage and the Economy: Theory and Evidence from',\n",
       " 'Neil Chethik, Voice Male: What Husbands Really Think About Their Marriages, Their Wives, Sex,',\n",
       " '10. Sreedhari D. Desai, Dolly Chugh, and Arthur Brief, “Marriage Structure and Resistance to the',\n",
       " 'Social Norms About Desires for Marriage and Children and Anticipated Chore Participation,”',\n",
       " '2. Scott S. Hall and Shelley M. MacDermid, “A Typology of Dual Earner Marriages Based on',\n",
       " 'That Inhibit Greater Father Involvement in Family Work,” Journal of Marriage and Family 61, no. 1',\n",
       " 'Social Embeddedness of Routine Family Work,” Journal of Marriage and Family 62, no. 4 (2000):',\n",
       " '“Control Over Money in Marriage,” in Marriage and the Economy: Theory and Evidence from',\n",
       " 'Neil Chethik, Voice Male: What Husbands Really Think About Their Marriages, Their Wives, Sex,',\n",
       " '10. Sreedhari D. Desai, Dolly Chugh, and Arthur Brief, “Marriage Structure and Resistance to the',\n",
       " 'Social Norms About Desires for Marriage and Children and Anticipated Chore Participation,”',\n",
       " '2. Scott S. Hall and Shelley M. MacDermid, “A Typology of Dual Earner Marriages Based on',\n",
       " 'That Inhibit Greater Father Involvement in Family Work,” Journal of Marriage and Family 61, no. 1',\n",
       " 'Social Embeddedness of Routine Family Work,” Journal of Marriage and Family 62, no. 4 (2000):',\n",
       " '“Control Over Money in Marriage,” in Marriage and the Economy: Theory and Evidence from',\n",
       " 'Neil Chethik, Voice Male: What Husbands Really Think About Their Marriages, Their Wives, Sex,',\n",
       " '10. Sreedhari D. Desai, Dolly Chugh, and Arthur Brief, “Marriage Structure and Resistance to the',\n",
       " 'Social Norms About Desires for Marriage and Children and Anticipated Chore Participation,”',\n",
       " '2. Scott S. Hall and Shelley M. MacDermid, “A Typology of Dual Earner Marriages Based on',\n",
       " 'That Inhibit Greater Father Involvement in Family Work,” Journal of Marriage and Family 61, no. 1',\n",
       " 'Social Embeddedness of Routine Family Work,” Journal of Marriage and Family 62, no. 4 (2000):',\n",
       " '“Control Over Money in Marriage,” in Marriage and the Economy: Theory and Evidence from',\n",
       " 'Neil Chethik, Voice Male: What Husbands Really Think About Their Marriages, Their Wives, Sex,',\n",
       " '10. Sreedhari D. Desai, Dolly Chugh, and Arthur Brief, “Marriage Structure and Resistance to the',\n",
       " 'Social Norms About Desires for Marriage and Children and Anticipated Chore Participation,”',\n",
       " '2. Scott S. Hall and Shelley M. MacDermid, “A Typology of Dual Earner Marriages Based on',\n",
       " 'That Inhibit Greater Father Involvement in Family Work,” Journal of Marriage and Family 61, no. 1',\n",
       " 'Social Embeddedness of Routine Family Work,” Journal of Marriage and Family 62, no. 4 (2000):',\n",
       " '“Control Over Money in Marriage,” in Marriage and the Economy: Theory and Evidence from',\n",
       " 'Neil Chethik, Voice Male: What Husbands Really Think About Their Marriages, Their Wives, Sex,',\n",
       " '10. Sreedhari D. Desai, Dolly Chugh, and Arthur Brief, “Marriage Structure and Resistance to the',\n",
       " 'Social Norms About Desires for Marriage and Children and Anticipated Chore Participation,”',\n",
       " '2. Scott S. Hall and Shelley M. MacDermid, “A Typology of Dual Earner Marriages Based on',\n",
       " 'That Inhibit Greater Father Involvement in Family Work,” Journal of Marriage and Family 61, no. 1',\n",
       " 'Social Embeddedness of Routine Family Work,” Journal of Marriage and Family 62, no. 4 (2000):',\n",
       " '“Control Over Money in Marriage,” in Marriage and the Economy: Theory and Evidence from',\n",
       " 'Neil Chethik, Voice Male: What Husbands Really Think About Their Marriages, Their Wives, Sex,',\n",
       " '10. Sreedhari D. Desai, Dolly Chugh, and Arthur Brief, “Marriage Structure and Resistance to the',\n",
       " 'Social Norms About Desires for Marriage and Children and Anticipated Chore Participation,”',\n",
       " '2. Scott S. Hall and Shelley M. MacDermid, “A Typology of Dual Earner Marriages Based on',\n",
       " 'That Inhibit Greater Father Involvement in Family Work,” Journal of Marriage and Family 61, no. 1',\n",
       " 'Social Embeddedness of Routine Family Work,” Journal of Marriage and Family 62, no. 4 (2000):',\n",
       " '“Control Over Money in Marriage,” in Marriage and the Economy: Theory and Evidence from',\n",
       " 'Neil Chethik, Voice Male: What Husbands Really Think About Their Marriages, Their Wives, Sex,',\n",
       " '10. Sreedhari D. Desai, Dolly Chugh, and Arthur Brief, “Marriage Structure and Resistance to the',\n",
       " 'Social Norms About Desires for Marriage and Children and Anticipated Chore Participation,”',\n",
       " '2. Scott S. Hall and Shelley M. MacDermid, “A Typology of Dual Earner Marriages Based on',\n",
       " 'That Inhibit Greater Father Involvement in Family Work,” Journal of Marriage and Family 61, no. 1',\n",
       " 'Social Embeddedness of Routine Family Work,” Journal of Marriage and Family 62, no. 4 (2000):',\n",
       " '“Control Over Money in Marriage,” in Marriage and the Economy: Theory and Evidence from',\n",
       " 'Neil Chethik, Voice Male: What Husbands Really Think About Their Marriages, Their Wives, Sex,',\n",
       " '10. Sreedhari D. Desai, Dolly Chugh, and Arthur Brief, “Marriage Structure and Resistance to the',\n",
       " 'Social Norms About Desires for Marriage and Children and Anticipated Chore Participation,”',\n",
       " '2. Scott S. Hall and Shelley M. MacDermid, “A Typology of Dual Earner Marriages Based on',\n",
       " 'That Inhibit Greater Father Involvement in Family Work,” Journal of Marriage and Family 61, no. 1',\n",
       " 'Social Embeddedness of Routine Family Work,” Journal of Marriage and Family 62, no. 4 (2000):',\n",
       " '“Control Over Money in Marriage,” in Marriage and the Economy: Theory and Evidence from',\n",
       " 'Neil Chethik, Voice Male: What Husbands Really Think About Their Marriages, Their Wives, Sex,',\n",
       " '10. Sreedhari D. Desai, Dolly Chugh, and Arthur Brief, “Marriage Structure and Resistance to the',\n",
       " 'Social Norms About Desires for Marriage and Children and Anticipated Chore Participation,”',\n",
       " '2. Scott S. Hall and Shelley M. MacDermid, “A Typology of Dual Earner Marriages Based on',\n",
       " 'That Inhibit Greater Father Involvement in Family Work,” Journal of Marriage and Family 61, no. 1',\n",
       " 'Social Embeddedness of Routine Family Work,” Journal of Marriage and Family 62, no. 4 (2000):',\n",
       " '“Control Over Money in Marriage,” in Marriage and the Economy: Theory and Evidence from',\n",
       " 'Neil Chethik, Voice Male: What Husbands Really Think About Their Marriages, Their Wives, Sex,',\n",
       " '10. Sreedhari D. Desai, Dolly Chugh, and Arthur Brief, “Marriage Structure and Resistance to the',\n",
       " 'Social Norms About Desires for Marriage and Children and Anticipated Chore Participation,”',\n",
       " '2. Scott S. Hall and Shelley M. MacDermid, “A Typology of Dual Earner Marriages Based on',\n",
       " 'That Inhibit Greater Father Involvement in Family Work,” Journal of Marriage and Family 61, no. 1',\n",
       " 'Social Embeddedness of Routine Family Work,” Journal of Marriage and Family 62, no. 4 (2000):',\n",
       " '“Control Over Money in Marriage,” in Marriage and the Economy: Theory and Evidence from',\n",
       " 'Neil Chethik, Voice Male: What Husbands Really Think About Their Marriages, Their Wives, Sex,',\n",
       " '10. Sreedhari D. Desai, Dolly Chugh, and Arthur Brief, “Marriage Structure and Resistance to the',\n",
       " 'Social Norms About Desires for Marriage and Children and Anticipated Chore Participation,”',\n",
       " '2. Scott S. Hall and Shelley M. MacDermid, “A Typology of Dual Earner Marriages Based on',\n",
       " 'That Inhibit Greater Father Involvement in Family Work,” Journal of Marriage and Family 61, no. 1',\n",
       " 'Social Embeddedness of Routine Family Work,” Journal of Marriage and Family 62, no. 4 (2000):',\n",
       " '“Control Over Money in Marriage,” in Marriage and the Economy: Theory and Evidence from',\n",
       " 'Neil Chethik, Voice Male: What Husbands Really Think About Their Marriages, Their Wives, Sex,',\n",
       " '10. Sreedhari D. Desai, Dolly Chugh, and Arthur Brief, “Marriage Structure and Resistance to the',\n",
       " 'Social Norms About Desires for Marriage and Children and Anticipated Chore Participation,”',\n",
       " '2. Scott S. Hall and Shelley M. MacDermid, “A Typology of Dual Earner Marriages Based on',\n",
       " 'That Inhibit Greater Father Involvement in Family Work,” Journal of Marriage and Family 61, no. 1',\n",
       " 'Social Embeddedness of Routine Family Work,” Journal of Marriage and Family 62, no. 4 (2000):',\n",
       " '“Control Over Money in Marriage,” in Marriage and the Economy: Theory and Evidence from',\n",
       " 'Neil Chethik, Voice Male: What Husbands Really Think About Their Marriages, Their Wives, Sex,',\n",
       " '10. Sreedhari D. Desai, Dolly Chugh, and Arthur Brief, “Marriage Structure and Resistance to the',\n",
       " 'Social Norms About Desires for Marriage and Children and Anticipated Chore Participation,”',\n",
       " '2. Scott S. Hall and Shelley M. MacDermid, “A Typology of Dual Earner Marriages Based on',\n",
       " 'That Inhibit Greater Father Involvement in Family Work,” Journal of Marriage and Family 61, no. 1',\n",
       " 'Social Embeddedness of Routine Family Work,” Journal of Marriage and Family 62, no. 4 (2000):',\n",
       " '“Control Over Money in Marriage,” in Marriage and the Economy: Theory and Evidence from',\n",
       " 'Neil Chethik, Voice Male: What Husbands Really Think About Their Marriages, Their Wives, Sex,',\n",
       " '10. Sreedhari D. Desai, Dolly Chugh, and Arthur Brief, “Marriage Structure and Resistance to the',\n",
       " 'Social Norms About Desires for Marriage and Children and Anticipated Chore Participation,”',\n",
       " '2. Scott S. Hall and Shelley M. MacDermid, “A Typology of Dual Earner Marriages Based on',\n",
       " 'That Inhibit Greater Father Involvement in Family Work,” Journal of Marriage and Family 61, no. 1',\n",
       " 'Social Embeddedness of Routine Family Work,” Journal of Marriage and Family 62, no. 4 (2000):',\n",
       " '“Control Over Money in Marriage,” in Marriage and the Economy: Theory and Evidence from',\n",
       " 'Neil Chethik, Voice Male: What Husbands Really Think About Their Marriages, Their Wives, Sex,',\n",
       " '10. Sreedhari D. Desai, Dolly Chugh, and Arthur Brief, “Marriage Structure and Resistance to the',\n",
       " 'Social Norms About Desires for Marriage and Children and Anticipated Chore Participation,”',\n",
       " '2. Scott S. Hall and Shelley M. MacDermid, “A Typology of Dual Earner Marriages Based on',\n",
       " 'That Inhibit Greater Father Involvement in Family Work,” Journal of Marriage and Family 61, no. 1',\n",
       " 'Social Embeddedness of Routine Family Work,” Journal of Marriage and Family 62, no. 4 (2000):',\n",
       " '“Control Over Money in Marriage,” in Marriage and the Economy: Theory and Evidence from',\n",
       " 'Neil Chethik, Voice Male: What Husbands Really Think About Their Marriages, Their Wives, Sex,',\n",
       " '10. Sreedhari D. Desai, Dolly Chugh, and Arthur Brief, “Marriage Structure and Resistance to the',\n",
       " 'Social Norms About Desires for Marriage and Children and Anticipated Chore Participation,”',\n",
       " '2. Scott S. Hall and Shelley M. MacDermid, “A Typology of Dual Earner Marriages Based on',\n",
       " 'That Inhibit Greater Father Involvement in Family Work,” Journal of Marriage and Family 61, no. 1',\n",
       " 'Social Embeddedness of Routine Family Work,” Journal of Marriage and Family 62, no. 4 (2000):',\n",
       " '“Control Over Money in Marriage,” in Marriage and the Economy: Theory and Evidence from',\n",
       " 'Neil Chethik, Voice Male: What Husbands Really Think About Their Marriages, Their Wives, Sex,',\n",
       " '10. Sreedhari D. Desai, Dolly Chugh, and Arthur Brief, “Marriage Structure and Resistance to the',\n",
       " 'Social Norms About Desires for Marriage and Children and Anticipated Chore Participation,”',\n",
       " '2. Scott S. Hall and Shelley M. MacDermid, “A Typology of Dual Earner Marriages Based on',\n",
       " 'That Inhibit Greater Father Involvement in Family Work,” Journal of Marriage and Family 61, no. 1',\n",
       " 'Social Embeddedness of Routine Family Work,” Journal of Marriage and Family 62, no. 4 (2000):',\n",
       " '“Control Over Money in Marriage,” in Marriage and the Economy: Theory and Evidence from',\n",
       " 'Neil Chethik, Voice Male: What Husbands Really Think About Their Marriages, Their Wives, Sex,',\n",
       " '10. Sreedhari D. Desai, Dolly Chugh, and Arthur Brief, “Marriage Structure and Resistance to the',\n",
       " 'Social Norms About Desires for Marriage and Children and Anticipated Chore Participation,”',\n",
       " '2. Scott S. Hall and Shelley M. MacDermid, “A Typology of Dual Earner Marriages Based on',\n",
       " 'That Inhibit Greater Father Involvement in Family Work,” Journal of Marriage and Family 61, no. 1',\n",
       " 'Social Embeddedness of Routine Family Work,” Journal of Marriage and Family 62, no. 4 (2000):',\n",
       " '“Control Over Money in Marriage,” in Marriage and the Economy: Theory and Evidence from',\n",
       " 'Neil Chethik, Voice Male: What Husbands Really Think About Their Marriages, Their Wives, Sex,',\n",
       " '10. Sreedhari D. Desai, Dolly Chugh, and Arthur Brief, “Marriage Structure and Resistance to the',\n",
       " 'Social Norms About Desires for Marriage and Children and Anticipated Chore Participation,”',\n",
       " '2. Scott S. Hall and Shelley M. MacDermid, “A Typology of Dual Earner Marriages Based on',\n",
       " 'That Inhibit Greater Father Involvement in Family Work,” Journal of Marriage and Family 61, no. 1',\n",
       " 'Social Embeddedness of Routine Family Work,” Journal of Marriage and Family 62, no. 4 (2000):',\n",
       " '“Control Over Money in Marriage,” in Marriage and the Economy: Theory and Evidence from',\n",
       " 'Neil Chethik, Voice Male: What Husbands Really Think About Their Marriages, Their Wives, Sex,',\n",
       " '10. Sreedhari D. Desai, Dolly Chugh, and Arthur Brief, “Marriage Structure and Resistance to the']"
      ]
     },
     "execution_count": 4,
     "metadata": {},
     "output_type": "execute_result"
    }
   ],
   "source": [
    "linesWithResearch.map(lambda x: [x]).reduce(lambda a, b: a + b)"
   ]
  },
  {
   "cell_type": "markdown",
   "metadata": {},
   "source": [
    "# 用reduce实现max"
   ]
  },
  {
   "cell_type": "code",
   "execution_count": 5,
   "metadata": {
    "collapsed": false
   },
   "outputs": [
    {
     "data": {
      "text/plain": [
       "'“Control Over Money in Marriage,” in Marriage and the Economy: Theory and Evidence from'"
      ]
     },
     "execution_count": 5,
     "metadata": {},
     "output_type": "execute_result"
    }
   ],
   "source": [
    "linesWithResearch.max()"
   ]
  },
  {
   "cell_type": "code",
   "execution_count": 6,
   "metadata": {
    "collapsed": false
   },
   "outputs": [
    {
     "data": {
      "text/plain": [
       "'“Control Over Money in Marriage,” in Marriage and the Economy: Theory and Evidence from'"
      ]
     },
     "execution_count": 6,
     "metadata": {},
     "output_type": "execute_result"
    }
   ],
   "source": [
    "linesWithResearch.reduce(lambda a, b: a if a > b else b)"
   ]
  },
  {
   "cell_type": "markdown",
   "metadata": {},
   "source": [
    "# 统计单词个数，从大到小排序，并过滤掉长度为1的单词，大小写不敏感"
   ]
  },
  {
   "cell_type": "code",
   "execution_count": 7,
   "metadata": {
    "collapsed": false
   },
   "outputs": [
    {
     "name": "stdout",
     "output_type": "stream",
     "text": [
      "1 loop, best of 3: 2.09 s per loop\n"
     ]
    }
   ],
   "source": [
    "%timeit textFile.flatMap(lambda line: re.split(' |\\n|\\[|\\]|\\(|\\)|/|#|\\.|\\+|\\-', str.lower(line)))\\\n",
    "                .filter(lambda word: len(word) > 1)\\\n",
    "                .map(lambda word: (word, 1))\\\n",
    "                .reduceByKey(lambda a, b: a + b)\\\n",
    "                .sortBy(lambda x: x[1], ascending=False)\\\n",
    "                .collect()"
   ]
  },
  {
   "cell_type": "markdown",
   "metadata": {},
   "source": [
    "# python版统计单词个数"
   ]
  },
  {
   "cell_type": "code",
   "execution_count": 8,
   "metadata": {
    "collapsed": true
   },
   "outputs": [],
   "source": [
    "textContent = textFile.collect()"
   ]
  },
  {
   "cell_type": "code",
   "execution_count": 9,
   "metadata": {
    "collapsed": true
   },
   "outputs": [],
   "source": [
    "def countWord(textContent):\n",
    "    rst = {}\n",
    "    for line in textContent:\n",
    "        words = re.split(' |\\n|\\[|\\]|\\(|\\)|/|#|\\.|\\+|\\-', str.lower(line))\n",
    "        for word in words:\n",
    "            if len(word) <= 1:\n",
    "                continue\n",
    "            if word in rst:\n",
    "                rst[word] = rst[word] + 1\n",
    "            else:\n",
    "                rst[word] = 1\n",
    "    \n",
    "    return sorted(rst.items(), key = lambda item: item[1], reverse=True)"
   ]
  },
  {
   "cell_type": "code",
   "execution_count": 10,
   "metadata": {
    "collapsed": false
   },
   "outputs": [
    {
     "name": "stdout",
     "output_type": "stream",
     "text": [
      "1 loop, best of 3: 947 ms per loop\n"
     ]
    }
   ],
   "source": [
    "%timeit countWord(textContent)"
   ]
  },
  {
   "cell_type": "code",
   "execution_count": null,
   "metadata": {
    "collapsed": true
   },
   "outputs": [],
   "source": []
  }
 ],
 "metadata": {
  "anaconda-cloud": {},
  "kernelspec": {
   "display_name": "Python [conda root]",
   "language": "python",
   "name": "conda-root-py"
  },
  "language_info": {
   "codemirror_mode": {
    "name": "ipython",
    "version": 3
   },
   "file_extension": ".py",
   "mimetype": "text/x-python",
   "name": "python",
   "nbconvert_exporter": "python",
   "pygments_lexer": "ipython3",
   "version": "3.5.2"
  }
 },
 "nbformat": 4,
 "nbformat_minor": 1
}
